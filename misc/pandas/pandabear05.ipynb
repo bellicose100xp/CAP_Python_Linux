{
 "cells": [
  {
   "cell_type": "code",
   "execution_count": 1,
   "id": "3f634108-8202-4593-870f-ec58e182b956",
   "metadata": {
    "tags": []
   },
   "outputs": [],
   "source": [
    "import pandas as pd"
   ]
  },
  {
   "cell_type": "code",
   "execution_count": 2,
   "id": "865891cc-7984-41bd-a776-15fc45ad2d71",
   "metadata": {
    "tags": []
   },
   "outputs": [],
   "source": [
    "ciscocsv = pd.read_csv(\"ciscodata.csv\")\n",
    "ciscojson = pd.read_json(\"ciscodata2.json\")\n",
    "ciscodf = pd.concat([ciscocsv, ciscojson], ignore_index=True, sort=False)"
   ]
  },
  {
   "cell_type": "code",
   "execution_count": 3,
   "id": "f186539d-cd53-49d0-a0f9-1a4de520c22b",
   "metadata": {
    "tags": []
   },
   "outputs": [
    {
     "data": {
      "text/plain": [
       "[{'device': 'ciscoios',\n",
       "  'serial': 'C8293-928F',\n",
       "  'ip': '192.168.70.1',\n",
       "  'region': 'northeast',\n",
       "  'firmware': 'v14.6'},\n",
       " {'device': 'ciscoiosxr',\n",
       "  'serial': 'A7392-123D',\n",
       "  'ip': '10.0.0.1',\n",
       "  'region': 'northeast',\n",
       "  'firmware': 'v1.2'},\n",
       " {'device': 'ciscoiosxe',\n",
       "  'serial': 'C8233-593A',\n",
       "  'ip': '172.6.2.11',\n",
       "  'region': 'southwest',\n",
       "  'firmware': 'v3.2'},\n",
       " {'device': 'cisconxos',\n",
       "  'serial': 'B1122-938A',\n",
       "  'ip': '172.4.2.11',\n",
       "  'region': 'south',\n",
       "  'firmware': 'v1.2'},\n",
       " {'device': 'ciscoios',\n",
       "  'serial': 'C2832-23dB',\n",
       "  'ip': '192.168.102.1',\n",
       "  'region': 'west',\n",
       "  'firmware': 'v14.6'},\n",
       " {'device': 'ciscoiosxr',\n",
       "  'serial': 'C9878-323F',\n",
       "  'ip': '10.3.3.1',\n",
       "  'region': 'west',\n",
       "  'firmware': 'v1.2'},\n",
       " {'device': 'ciscoiosxr',\n",
       "  'serial': 'C7673-664E',\n",
       "  'ip': '10.66.7.1',\n",
       "  'region': 'north',\n",
       "  'firmware': 'v1.2'}]"
      ]
     },
     "execution_count": 3,
     "metadata": {},
     "output_type": "execute_result"
    }
   ],
   "source": [
    "ciscodf.to_json(\"combined_ciscodata.json\", orient=\"records\")\n",
    "ciscodf.to_csv(\"combined_ciscodata.csv\", index=False)\n",
    "ciscodf.to_excel(\"combined_ciscodata.xlsx\", index=False)\n",
    "x = ciscodf.to_dict(orient='records')\n",
    "x"
   ]
  },
  {
   "cell_type": "code",
   "execution_count": null,
   "id": "25614555-3298-4079-95db-3676a1c0c323",
   "metadata": {},
   "outputs": [],
   "source": []
  }
 ],
 "metadata": {
  "kernelspec": {
   "display_name": "Python 3 (ipykernel)",
   "language": "python",
   "name": "python3"
  },
  "language_info": {
   "codemirror_mode": {
    "name": "ipython",
    "version": 3
   },
   "file_extension": ".py",
   "mimetype": "text/x-python",
   "name": "python",
   "nbconvert_exporter": "python",
   "pygments_lexer": "ipython3",
   "version": "3.10.12"
  }
 },
 "nbformat": 4,
 "nbformat_minor": 5
}

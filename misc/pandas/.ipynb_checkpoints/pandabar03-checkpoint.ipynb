{
 "cells": [
  {
   "cell_type": "code",
   "execution_count": 1,
   "id": "3778b9ef-c1b8-4303-bbe5-ffe726c9973b",
   "metadata": {
    "tags": []
   },
   "outputs": [],
   "source": [
    "import pandas as pd"
   ]
  },
  {
   "cell_type": "code",
   "execution_count": 2,
   "id": "009e7ad9-cdcd-4f74-a458-a34fa8e490d9",
   "metadata": {
    "tags": []
   },
   "outputs": [],
   "source": [
    "ciscocsv = pd.read_csv(\"ciscodata.csv\")\n",
    "ciscojson = pd.read_json(\"ciscodata2.json\")"
   ]
  },
  {
   "cell_type": "code",
   "execution_count": 3,
   "id": "5bbf38da-cad1-4c5d-8f88-cbaeb439c7f7",
   "metadata": {
    "tags": []
   },
   "outputs": [
    {
     "data": {
      "text/html": [
       "<div>\n",
       "<style scoped>\n",
       "    .dataframe tbody tr th:only-of-type {\n",
       "        vertical-align: middle;\n",
       "    }\n",
       "\n",
       "    .dataframe tbody tr th {\n",
       "        vertical-align: top;\n",
       "    }\n",
       "\n",
       "    .dataframe thead th {\n",
       "        text-align: right;\n",
       "    }\n",
       "</style>\n",
       "<table border=\"1\" class=\"dataframe\">\n",
       "  <thead>\n",
       "    <tr style=\"text-align: right;\">\n",
       "      <th></th>\n",
       "      <th>device</th>\n",
       "      <th>serial</th>\n",
       "      <th>ip</th>\n",
       "      <th>region</th>\n",
       "      <th>firmware</th>\n",
       "    </tr>\n",
       "  </thead>\n",
       "  <tbody>\n",
       "    <tr>\n",
       "      <th>0</th>\n",
       "      <td>ciscoios</td>\n",
       "      <td>C8293-928F</td>\n",
       "      <td>192.168.70.1</td>\n",
       "      <td>northeast</td>\n",
       "      <td>v14.6</td>\n",
       "    </tr>\n",
       "    <tr>\n",
       "      <th>1</th>\n",
       "      <td>ciscoiosxr</td>\n",
       "      <td>A7392-123D</td>\n",
       "      <td>10.0.0.1</td>\n",
       "      <td>northeast</td>\n",
       "      <td>v1.2</td>\n",
       "    </tr>\n",
       "    <tr>\n",
       "      <th>2</th>\n",
       "      <td>ciscoiosxe</td>\n",
       "      <td>C8233-593A</td>\n",
       "      <td>172.6.2.11</td>\n",
       "      <td>southwest</td>\n",
       "      <td>v3.2</td>\n",
       "    </tr>\n",
       "    <tr>\n",
       "      <th>3</th>\n",
       "      <td>cisconxos</td>\n",
       "      <td>B1122-938A</td>\n",
       "      <td>172.4.2.11</td>\n",
       "      <td>south</td>\n",
       "      <td>v1.2</td>\n",
       "    </tr>\n",
       "    <tr>\n",
       "      <th>4</th>\n",
       "      <td>ciscoios</td>\n",
       "      <td>C2832-23dB</td>\n",
       "      <td>192.168.102.1</td>\n",
       "      <td>west</td>\n",
       "      <td>v14.6</td>\n",
       "    </tr>\n",
       "  </tbody>\n",
       "</table>\n",
       "</div>"
      ],
      "text/plain": [
       "       device      serial             ip     region firmware\n",
       "0    ciscoios  C8293-928F   192.168.70.1  northeast    v14.6\n",
       "1  ciscoiosxr  A7392-123D       10.0.0.1  northeast     v1.2\n",
       "2  ciscoiosxe  C8233-593A     172.6.2.11  southwest     v3.2\n",
       "3   cisconxos  B1122-938A     172.4.2.11      south     v1.2\n",
       "4    ciscoios  C2832-23dB  192.168.102.1       west    v14.6"
      ]
     },
     "execution_count": 3,
     "metadata": {},
     "output_type": "execute_result"
    }
   ],
   "source": [
    "ciscocsv.head()"
   ]
  },
  {
   "cell_type": "code",
   "execution_count": 4,
   "id": "c8f188e8-4fe0-42a2-bab7-f208cf755369",
   "metadata": {
    "tags": []
   },
   "outputs": [
    {
     "data": {
      "text/html": [
       "<div>\n",
       "<style scoped>\n",
       "    .dataframe tbody tr th:only-of-type {\n",
       "        vertical-align: middle;\n",
       "    }\n",
       "\n",
       "    .dataframe tbody tr th {\n",
       "        vertical-align: top;\n",
       "    }\n",
       "\n",
       "    .dataframe thead th {\n",
       "        text-align: right;\n",
       "    }\n",
       "</style>\n",
       "<table border=\"1\" class=\"dataframe\">\n",
       "  <thead>\n",
       "    <tr style=\"text-align: right;\">\n",
       "      <th></th>\n",
       "      <th>device</th>\n",
       "      <th>serial</th>\n",
       "      <th>ip</th>\n",
       "      <th>region</th>\n",
       "      <th>firmware</th>\n",
       "    </tr>\n",
       "  </thead>\n",
       "  <tbody>\n",
       "    <tr>\n",
       "      <th>0</th>\n",
       "      <td>ciscoiosxr</td>\n",
       "      <td>C9878-323F</td>\n",
       "      <td>10.3.3.1</td>\n",
       "      <td>west</td>\n",
       "      <td>v1.2</td>\n",
       "    </tr>\n",
       "    <tr>\n",
       "      <th>1</th>\n",
       "      <td>ciscoiosxr</td>\n",
       "      <td>C7673-664E</td>\n",
       "      <td>10.66.7.1</td>\n",
       "      <td>north</td>\n",
       "      <td>v1.2</td>\n",
       "    </tr>\n",
       "  </tbody>\n",
       "</table>\n",
       "</div>"
      ],
      "text/plain": [
       "       device      serial         ip region firmware\n",
       "0  ciscoiosxr  C9878-323F   10.3.3.1   west     v1.2\n",
       "1  ciscoiosxr  C7673-664E  10.66.7.1  north     v1.2"
      ]
     },
     "execution_count": 4,
     "metadata": {},
     "output_type": "execute_result"
    }
   ],
   "source": [
    "ciscojson.head()"
   ]
  },
  {
   "cell_type": "code",
   "execution_count": 7,
   "id": "eb70a583-4b86-40df-aeff-40d3c5b6248f",
   "metadata": {
    "tags": []
   },
   "outputs": [],
   "source": [
    "ciscodf = pd.concat([ciscocsv, ciscojson])"
   ]
  },
  {
   "cell_type": "code",
   "execution_count": 8,
   "id": "e7d962f7-afd7-4bec-b5f6-4bcb59a7361a",
   "metadata": {
    "tags": []
   },
   "outputs": [
    {
     "data": {
      "text/html": [
       "<div>\n",
       "<style scoped>\n",
       "    .dataframe tbody tr th:only-of-type {\n",
       "        vertical-align: middle;\n",
       "    }\n",
       "\n",
       "    .dataframe tbody tr th {\n",
       "        vertical-align: top;\n",
       "    }\n",
       "\n",
       "    .dataframe thead th {\n",
       "        text-align: right;\n",
       "    }\n",
       "</style>\n",
       "<table border=\"1\" class=\"dataframe\">\n",
       "  <thead>\n",
       "    <tr style=\"text-align: right;\">\n",
       "      <th></th>\n",
       "      <th>device</th>\n",
       "      <th>serial</th>\n",
       "      <th>ip</th>\n",
       "      <th>region</th>\n",
       "      <th>firmware</th>\n",
       "    </tr>\n",
       "  </thead>\n",
       "  <tbody>\n",
       "    <tr>\n",
       "      <th>0</th>\n",
       "      <td>ciscoios</td>\n",
       "      <td>C8293-928F</td>\n",
       "      <td>192.168.70.1</td>\n",
       "      <td>northeast</td>\n",
       "      <td>v14.6</td>\n",
       "    </tr>\n",
       "    <tr>\n",
       "      <th>1</th>\n",
       "      <td>ciscoiosxr</td>\n",
       "      <td>A7392-123D</td>\n",
       "      <td>10.0.0.1</td>\n",
       "      <td>northeast</td>\n",
       "      <td>v1.2</td>\n",
       "    </tr>\n",
       "    <tr>\n",
       "      <th>2</th>\n",
       "      <td>ciscoiosxe</td>\n",
       "      <td>C8233-593A</td>\n",
       "      <td>172.6.2.11</td>\n",
       "      <td>southwest</td>\n",
       "      <td>v3.2</td>\n",
       "    </tr>\n",
       "    <tr>\n",
       "      <th>3</th>\n",
       "      <td>cisconxos</td>\n",
       "      <td>B1122-938A</td>\n",
       "      <td>172.4.2.11</td>\n",
       "      <td>south</td>\n",
       "      <td>v1.2</td>\n",
       "    </tr>\n",
       "    <tr>\n",
       "      <th>4</th>\n",
       "      <td>ciscoios</td>\n",
       "      <td>C2832-23dB</td>\n",
       "      <td>192.168.102.1</td>\n",
       "      <td>west</td>\n",
       "      <td>v14.6</td>\n",
       "    </tr>\n",
       "    <tr>\n",
       "      <th>0</th>\n",
       "      <td>ciscoiosxr</td>\n",
       "      <td>C9878-323F</td>\n",
       "      <td>10.3.3.1</td>\n",
       "      <td>west</td>\n",
       "      <td>v1.2</td>\n",
       "    </tr>\n",
       "    <tr>\n",
       "      <th>1</th>\n",
       "      <td>ciscoiosxr</td>\n",
       "      <td>C7673-664E</td>\n",
       "      <td>10.66.7.1</td>\n",
       "      <td>north</td>\n",
       "      <td>v1.2</td>\n",
       "    </tr>\n",
       "  </tbody>\n",
       "</table>\n",
       "</div>"
      ],
      "text/plain": [
       "       device      serial             ip     region firmware\n",
       "0    ciscoios  C8293-928F   192.168.70.1  northeast    v14.6\n",
       "1  ciscoiosxr  A7392-123D       10.0.0.1  northeast     v1.2\n",
       "2  ciscoiosxe  C8233-593A     172.6.2.11  southwest     v3.2\n",
       "3   cisconxos  B1122-938A     172.4.2.11      south     v1.2\n",
       "4    ciscoios  C2832-23dB  192.168.102.1       west    v14.6\n",
       "0  ciscoiosxr  C9878-323F       10.3.3.1       west     v1.2\n",
       "1  ciscoiosxr  C7673-664E      10.66.7.1      north     v1.2"
      ]
     },
     "execution_count": 8,
     "metadata": {},
     "output_type": "execute_result"
    }
   ],
   "source": [
    "ciscodf"
   ]
  },
  {
   "cell_type": "code",
   "execution_count": null,
   "id": "925af4b4-020e-47f0-aa8e-30718c9c9c27",
   "metadata": {},
   "outputs": [],
   "source": []
  }
 ],
 "metadata": {
  "kernelspec": {
   "display_name": "Python 3 (ipykernel)",
   "language": "python",
   "name": "python3"
  },
  "language_info": {
   "codemirror_mode": {
    "name": "ipython",
    "version": 3
   },
   "file_extension": ".py",
   "mimetype": "text/x-python",
   "name": "python",
   "nbconvert_exporter": "python",
   "pygments_lexer": "ipython3",
   "version": "3.10.12"
  }
 },
 "nbformat": 4,
 "nbformat_minor": 5
}
